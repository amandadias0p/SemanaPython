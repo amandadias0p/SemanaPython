{
 "cells": [
  {
   "cell_type": "markdown",
   "id": "a35ba0f0",
   "metadata": {},
   "source": [
    "# Inserindo os dados do usuário"
   ]
  },
  {
   "cell_type": "code",
   "execution_count": 41,
   "id": "3e33dc98",
   "metadata": {
    "collapsed": true
   },
   "outputs": [
    {
     "name": "stdout",
     "output_type": "stream",
     "text": [
      "Digite a descrição do projeto: web\n",
      "Digite a quantidade de horas estimadas: 48\n",
      "Digite o valor da hora trabalhada: 540\n",
      "Digite o prazo: 5 meses\n"
     ]
    },
    {
     "data": {
      "text/plain": [
       "'5 meses'"
      ]
     },
     "execution_count": 41,
     "metadata": {},
     "output_type": "execute_result"
    }
   ],
   "source": [
    "input(\"Digite a descrição do projeto: \")\n",
    "input(\"Digite a quantidade de horas estimadas: \")\n",
    "input(\"Digite o valor da hora trabalhada: \")\n",
    "input(\"Digite o prazo: \")"
   ]
  },
  {
   "cell_type": "markdown",
   "id": "0c234c4b",
   "metadata": {},
   "source": [
    "# Guardando os dados (variáveis)"
   ]
  },
  {
   "cell_type": "code",
   "execution_count": 52,
   "id": "d6d08961",
   "metadata": {
    "collapsed": true
   },
   "outputs": [
    {
     "name": "stdout",
     "output_type": "stream",
     "text": [
      "Digite a descrição do projeto: Desenvolvimento web\n",
      "Digite a quantidade de horas estimadas: 65\n",
      "Digite o valor da hora trabalhada: 200\n",
      "Digite o prazo: 2 meses\n"
     ]
    }
   ],
   "source": [
    "descricao = input(\"Digite a descrição do projeto: \")\n",
    "qtdeHoras = int(input(\"Digite a quantidade de horas estimadas: \"))\n",
    "valorHora = int(input(\"Digite o valor da hora trabalhada: \"))\n",
    "prazo = input(\"Digite o prazo: \")\n",
    "valorTotal = qtdeHoras * valorHora"
   ]
  },
  {
   "cell_type": "code",
   "execution_count": 53,
   "id": "1274579a",
   "metadata": {
    "collapsed": true
   },
   "outputs": [
    {
     "name": "stdout",
     "output_type": "stream",
     "text": [
      "13000\n"
     ]
    }
   ],
   "source": [
    "print(valorTotal)"
   ]
  },
  {
   "cell_type": "markdown",
   "id": "de53d17e",
   "metadata": {},
   "source": [
    "# Gerando PDF do orçamento"
   ]
  },
  {
   "cell_type": "code",
   "execution_count": 51,
   "id": "f86198df",
   "metadata": {},
   "outputs": [
    {
     "name": "stdout",
     "output_type": "stream",
     "text": [
      "Requirement already satisfied: fpdf in c:\\users\\amanda\\anaconda3\\lib\\site-packages (1.7.2)\n",
      "Requirement already satisfied: fpdf in c:\\users\\amanda\\anaconda3\\lib\\site-packages (1.7.2)\n"
     ]
    }
   ],
   "source": [
    "!pip install fpdf"
   ]
  },
  {
   "cell_type": "code",
   "execution_count": 54,
   "id": "42113c38",
   "metadata": {},
   "outputs": [],
   "source": [
    "from fpdf import FPDF"
   ]
  },
  {
   "cell_type": "code",
   "execution_count": 60,
   "id": "b88c9d09",
   "metadata": {},
   "outputs": [
    {
     "name": "stdout",
     "output_type": "stream",
     "text": [
      "O orçamento foi gerado com sucesso!\n"
     ]
    }
   ],
   "source": [
    "pdf = FPDF()\n",
    "pdf.add_page()\n",
    "pdf.set_font(\"Arial\")\n",
    "\n",
    "pdf.image(\"template.png\", x=0, y=0)\n",
    "pdf.text(115, 145, descricao)\n",
    "pdf.text(115, 160, str(qtdeHoras))\n",
    "pdf.text(115, 175, str(valorHora))\n",
    "pdf.text(115, 190, prazo)\n",
    "pdf.text(115, 205, str(valorTotal))\n",
    "\n",
    "pdf.output(\"Orçamento Python.pdf\")\n",
    "print(\"O orçamento foi gerado com sucesso!\")"
   ]
  },
  {
   "cell_type": "code",
   "execution_count": null,
   "id": "e20f1534",
   "metadata": {},
   "outputs": [],
   "source": []
  }
 ],
 "metadata": {
  "language_info": {
   "codemirror_mode": {
    "name": "ipython",
    "version": 3
   },
   "file_extension": ".py",
   "mimetype": "text/x-python",
   "name": "python",
   "nbconvert_exporter": "python",
   "pygments_lexer": "ipython3",
   "version": "3.9.13"
  }
 },
 "nbformat": 4,
 "nbformat_minor": 5
}
